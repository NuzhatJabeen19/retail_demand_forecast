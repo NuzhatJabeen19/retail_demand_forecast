{
 "cells": [
  {
   "cell_type": "markdown",
   "metadata": {
    "id": "O0ylMFj3c-cO"
   },
   "source": [
    "#Corporación Favorita Grocery Sales Forecasting\n",
    "The objective is to predict future sales of items in Favorita grocery stores across different regions of Ecuador. So that Reliable predictions can be helpful to optimize inventory management, prevent stockouts, and improve promotion strategies."
   ]
  },
  {
   "cell_type": "markdown",
   "metadata": {
    "id": "U7SsUxpbgmWg"
   },
   "source": [
    "#1- Importing Libraries"
   ]
  },
  {
   "cell_type": "code",
   "execution_count": 1,
   "metadata": {
    "executionInfo": {
     "elapsed": 565,
     "status": "ok",
     "timestamp": 1749754995390,
     "user": {
      "displayName": "nuzhat amna",
      "userId": "14208939946541820310"
     },
     "user_tz": -120
    },
    "id": "mOYmHaBqELO3"
   },
   "outputs": [],
   "source": [
    "import pandas as pd\n",
    "import matplotlib.pyplot as plt\n"
   ]
  },
  {
   "cell_type": "code",
   "execution_count": 2,
   "metadata": {
    "colab": {
     "base_uri": "https://localhost:8080/"
    },
    "executionInfo": {
     "elapsed": 120096,
     "status": "ok",
     "timestamp": 1749755167201,
     "user": {
      "displayName": "nuzhat amna",
      "userId": "14208939946541820310"
     },
     "user_tz": -120
    },
    "id": "zz_9rh8SET4d",
    "outputId": "677fc1be-fd43-4882-a7b3-f045eaf0c4da"
   },
   "outputs": [
    {
     "name": "stdout",
     "output_type": "stream",
     "text": [
      "Drive already mounted at /content/drive; to attempt to forcibly remount, call drive.mount(\"/content/drive\", force_remount=True).\n"
     ]
    }
   ],
   "source": [
    "from google.colab import drive\n",
    "drive.mount('/content/drive')"
   ]
  },
  {
   "cell_type": "markdown",
   "metadata": {
    "id": "GCh1yUR6gwnJ"
   },
   "source": [
    "# 2- Data Retreival and Filter for Guayas region"
   ]
  },
  {
   "cell_type": "code",
   "execution_count": 3,
   "metadata": {
    "executionInfo": {
     "elapsed": 13696,
     "status": "ok",
     "timestamp": 1749755199241,
     "user": {
      "displayName": "nuzhat amna",
      "userId": "14208939946541820310"
     },
     "user_tz": -120
    },
    "id": "aJGyqOTa0rUh"
   },
   "outputs": [],
   "source": [
    "df_stores = pd.read_csv('/content/drive/MyDrive/Projects/Timeseries_project/data/stores.csv')\n",
    "df_items = pd.read_csv('/content/drive/MyDrive/Projects/Timeseries_project/data/items.csv')\n",
    "df_holidays_event = pd.read_csv('/content/drive/MyDrive/Projects/Timeseries_project/data/holidays_events.csv')\n",
    "df_sample_submission = pd.read_csv('/content/drive/MyDrive/Projects/Timeseries_project/data/sample_submission.csv')\n",
    "df_oil = pd.read_csv('/content/drive/MyDrive/Projects/Timeseries_project/data/oil.csv')\n",
    "df_test = pd.read_csv('/content/drive/MyDrive/Projects/Timeseries_project/data/test.csv')\n",
    "df_transactions = pd.read_csv('/content/drive/MyDrive/Projects/Timeseries_project/data/transactions.csv')\n",
    "df_train = pd.read_csv('/content/drive/MyDrive/Projects/Timeseries_project/data/train.csv', nrows = 2e6)"
   ]
  },
  {
   "cell_type": "code",
   "execution_count": 2,
   "metadata": {},
   "outputs": [],
   "source": [
    "# Read data locally \n",
    "\n",
    "file_path = '/Users/D065623/Documents/Amna/Time_series_project/Data/'\n",
    "\n",
    "df_stores = pd.read_csv(file_path + 'stores.csv')\n",
    "df_items = pd.read_csv(file_path + 'items.csv')\n",
    "df_holidays_event = pd.read_csv(file_path + 'holidays_events.csv')\n",
    "df_oil = pd.read_csv(file_path + 'oil.csv')\n",
    "df_train = pd.read_csv(file_path + 'train.csv', nrows = 2e6)"
   ]
  },
  {
   "cell_type": "code",
   "execution_count": 3,
   "metadata": {},
   "outputs": [
    {
     "name": "stdout",
     "output_type": "stream",
     "text": [
      "df_stores shape: (54, 5)\n",
      "df_items shape: (4100, 4)\n",
      "df_holidays_event shape: (350, 6)\n",
      "df_oil shape: (1218, 2)\n",
      "df_train shape: (2000000, 6)\n"
     ]
    }
   ],
   "source": [
    "print(f'df_stores shape: {df_stores.shape}')\n",
    "print(f'df_items shape: {df_items.shape}')\n",
    "print(f'df_holidays_event shape: {df_holidays_event.shape}')\n",
    "print(f'df_oil shape: {df_oil.shape}')\n",
    "print(f'df_train shape: {df_train.shape}')"
   ]
  },
  {
   "cell_type": "code",
   "execution_count": 4,
   "metadata": {
    "executionInfo": {
     "elapsed": 3,
     "status": "ok",
     "timestamp": 1749755208103,
     "user": {
      "displayName": "nuzhat amna",
      "userId": "14208939946541820310"
     },
     "user_tz": -120
    },
    "id": "qMOj7tAj12p9"
   },
   "outputs": [],
   "source": [
    "store_ids = df_stores[df_stores['state'] == 'Guayas']['store_nbr'].unique()"
   ]
  },
  {
   "cell_type": "code",
   "execution_count": 8,
   "metadata": {
    "colab": {
     "base_uri": "https://localhost:8080/"
    },
    "executionInfo": {
     "elapsed": 109976,
     "status": "ok",
     "timestamp": 1749755322000,
     "user": {
      "displayName": "nuzhat amna",
      "userId": "14208939946541820310"
     },
     "user_tz": -120
    },
    "id": "Bji4iJ_v2PZf",
    "outputId": "00ad01e7-dd5f-40d2-c298-cb9f2074a840"
   },
   "outputs": [
    {
     "name": "stderr",
     "output_type": "stream",
     "text": [
      "/var/folders/c8/sh5pt5vd6l18mnnz089s6hd80000gn/T/ipykernel_39453/732496117.py:3: DtypeWarning: Columns (5) have mixed types. Specify dtype option on import or set low_memory=False.\n",
      "  for df_chunk in pd.read_csv(file_path+'train.csv', chunksize= chunksize):\n"
     ]
    }
   ],
   "source": [
    "filtered_df = []\n",
    "chunksize =10e6\n",
    "for df_chunk in pd.read_csv(file_path+'train.csv', chunksize= chunksize):\n",
    "    df_chunk_filtered = df_chunk[df_chunk['store_nbr'].isin(store_ids)]\n",
    "    filtered_df.append(df_chunk_filtered)\n",
    "    del df_chunk\n",
    "\n",
    "df_train_filtered = pd.concat(filtered_df, ignore_index=True)\n",
    "del filtered_df"
   ]
  },
  {
   "cell_type": "code",
   "execution_count": 9,
   "metadata": {
    "colab": {
     "base_uri": "https://localhost:8080/"
    },
    "executionInfo": {
     "elapsed": 14,
     "status": "ok",
     "timestamp": 1749755331441,
     "user": {
      "displayName": "nuzhat amna",
      "userId": "14208939946541820310"
     },
     "user_tz": -120
    },
    "id": "JodHjIYRBvON",
    "outputId": "6b7bf466-8ef3-4767-bfa1-ab609b96b2ac"
   },
   "outputs": [
    {
     "data": {
      "text/plain": [
       "(22941656, 6)"
      ]
     },
     "execution_count": 9,
     "metadata": {},
     "output_type": "execute_result"
    }
   ],
   "source": [
    "df_train_filtered.shape"
   ]
  },
  {
   "cell_type": "markdown",
   "metadata": {
    "id": "tZvrv2tNhTrl"
   },
   "source": [
    "# 3- Filter for top 3 Families"
   ]
  },
  {
   "cell_type": "code",
   "execution_count": 10,
   "metadata": {
    "executionInfo": {
     "elapsed": 17,
     "status": "ok",
     "timestamp": 1749755335269,
     "user": {
      "displayName": "nuzhat amna",
      "userId": "14208939946541820310"
     },
     "user_tz": -120
    },
    "id": "CaPMtSHTFTXC"
   },
   "outputs": [],
   "source": [
    "df_items.head()\n",
    "item_count = df_items['family'].value_counts().reset_index()\n",
    "top_3_families = item_count['family'].head(3)\n",
    "items_selected = df_items[df_items['family'].isin(top_3_families)]['item_nbr'].unique()"
   ]
  },
  {
   "cell_type": "code",
   "execution_count": 11,
   "metadata": {
    "executionInfo": {
     "elapsed": 1090,
     "status": "ok",
     "timestamp": 1749755339568,
     "user": {
      "displayName": "nuzhat amna",
      "userId": "14208939946541820310"
     },
     "user_tz": -120
    },
    "id": "NNKWDHT9GadU"
   },
   "outputs": [],
   "source": [
    "df_train_filtered = df_train_filtered[df_train_filtered['item_nbr'].isin(items_selected)]"
   ]
  },
  {
   "cell_type": "code",
   "execution_count": 12,
   "metadata": {
    "colab": {
     "base_uri": "https://localhost:8080/"
    },
    "executionInfo": {
     "elapsed": 4,
     "status": "ok",
     "timestamp": 1749755345227,
     "user": {
      "displayName": "nuzhat amna",
      "userId": "14208939946541820310"
     },
     "user_tz": -120
    },
    "id": "EsMP6AXeBqWX",
    "outputId": "111536f1-e729-429e-af7c-04585246b95f"
   },
   "outputs": [
    {
     "data": {
      "text/plain": [
       "(14745768, 6)"
      ]
     },
     "execution_count": 12,
     "metadata": {},
     "output_type": "execute_result"
    }
   ],
   "source": [
    "df_train_filtered.shape"
   ]
  },
  {
   "cell_type": "markdown",
   "metadata": {
    "id": "c39Jk4kjhaGF"
   },
   "source": [
    "# 4- Saving CSV as Raw train of Guayas Region"
   ]
  },
  {
   "cell_type": "code",
   "execution_count": 13,
   "metadata": {
    "executionInfo": {
     "elapsed": 60079,
     "status": "ok",
     "timestamp": 1749755411955,
     "user": {
      "displayName": "nuzhat amna",
      "userId": "14208939946541820310"
     },
     "user_tz": -120
    },
    "id": "0tzehPyG7HUC"
   },
   "outputs": [],
   "source": [
    "#df_train_filtered.to_csv('/content/drive/MyDrive/Projects/Timeseries_project/data/train_Guayas.csv', index=False)\n",
    "df_train_filtered.to_csv(file_path+'train_Guayas.csv', index=False)\n"
   ]
  }
 ],
 "metadata": {
  "colab": {
   "authorship_tag": "ABX9TyOIfzNP6NE5A0KzTvab+JXm",
   "mount_file_id": "1OsD1xywmY6p6f7GGsB2-nvxsT3GLb2iJ",
   "provenance": []
  },
  "kernelspec": {
   "display_name": "py310",
   "language": "python",
   "name": "python3"
  },
  "language_info": {
   "codemirror_mode": {
    "name": "ipython",
    "version": 3
   },
   "file_extension": ".py",
   "mimetype": "text/x-python",
   "name": "python",
   "nbconvert_exporter": "python",
   "pygments_lexer": "ipython3",
   "version": "3.10.6"
  }
 },
 "nbformat": 4,
 "nbformat_minor": 0
}
