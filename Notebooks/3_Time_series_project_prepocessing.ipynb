{
 "cells": [
  {
   "cell_type": "markdown",
   "metadata": {
    "id": "O0ylMFj3c-cO"
   },
   "source": [
    "#Corporación Favorita Grocery Sales Forecasting\n",
    "The objective is to predict future sales of items in Favorita grocery stores across different regions of Ecuador. So that Reliable predictions can be helpful to optimize inventory management, prevent stockouts, and improve promotion strategies."
   ]
  },
  {
   "cell_type": "markdown",
   "metadata": {
    "id": "U7SsUxpbgmWg"
   },
   "source": [
    "#1- Importing Libraries"
   ]
  },
  {
   "cell_type": "code",
   "execution_count": 23,
   "metadata": {
    "executionInfo": {
     "elapsed": 2856,
     "status": "ok",
     "timestamp": 1749756208305,
     "user": {
      "displayName": "nuzhat amna",
      "userId": "14208939946541820310"
     },
     "user_tz": -120
    },
    "id": "jQzRdxtSiPkS"
   },
   "outputs": [],
   "source": [
    "import pandas as pd\n",
    "import matplotlib.pyplot as plt\n",
    "import seaborn as sns\n",
    "import numpy as np"
   ]
  },
  {
   "cell_type": "code",
   "execution_count": 24,
   "metadata": {
    "colab": {
     "base_uri": "https://localhost:8080/"
    },
    "executionInfo": {
     "elapsed": 17815,
     "status": "ok",
     "timestamp": 1749756227697,
     "user": {
      "displayName": "nuzhat amna",
      "userId": "14208939946541820310"
     },
     "user_tz": -120
    },
    "id": "zz_9rh8SET4d",
    "outputId": "e6029133-7fd2-4bae-cbb3-29f7ab70989c"
   },
   "outputs": [
    {
     "ename": "ModuleNotFoundError",
     "evalue": "No module named 'google.colab'",
     "output_type": "error",
     "traceback": [
      "\u001b[0;31m---------------------------------------------------------------------------\u001b[0m",
      "\u001b[0;31mModuleNotFoundError\u001b[0m                       Traceback (most recent call last)",
      "Cell \u001b[0;32mIn [24], line 1\u001b[0m\n\u001b[0;32m----> 1\u001b[0m \u001b[38;5;28;01mfrom\u001b[39;00m \u001b[38;5;21;01mgoogle\u001b[39;00m\u001b[38;5;21;01m.\u001b[39;00m\u001b[38;5;21;01mcolab\u001b[39;00m \u001b[38;5;28;01mimport\u001b[39;00m drive\n\u001b[1;32m      2\u001b[0m drive\u001b[38;5;241m.\u001b[39mmount(\u001b[38;5;124m'\u001b[39m\u001b[38;5;124m/content/drive\u001b[39m\u001b[38;5;124m'\u001b[39m)\n",
      "\u001b[0;31mModuleNotFoundError\u001b[0m: No module named 'google.colab'"
     ]
    }
   ],
   "source": [
    "from google.colab import drive\n",
    "drive.mount('/content/drive')"
   ]
  },
  {
   "cell_type": "markdown",
   "metadata": {
    "id": "GCh1yUR6gwnJ"
   },
   "source": [
    "# 2- Data Retreival"
   ]
  },
  {
   "cell_type": "code",
   "execution_count": null,
   "metadata": {
    "colab": {
     "base_uri": "https://localhost:8080/"
    },
    "executionInfo": {
     "elapsed": 18993,
     "status": "ok",
     "timestamp": 1749756250109,
     "user": {
      "displayName": "nuzhat amna",
      "userId": "14208939946541820310"
     },
     "user_tz": -120
    },
    "id": "aJGyqOTa0rUh",
    "outputId": "836562d6-6ca5-473c-ad1a-5f5c3756cd03"
   },
   "outputs": [
    {
     "name": "stderr",
     "output_type": "stream",
     "text": [
      "<ipython-input-3-1043019830>:8: DtypeWarning: Columns (5) have mixed types. Specify dtype option on import or set low_memory=False.\n",
      "  df_train_Guayas = pd.read_csv('/content/drive/MyDrive/Projects/Timeseries_project/data/train_Guayas.csv')\n"
     ]
    }
   ],
   "source": [
    "\n",
    "df_stores = pd.read_csv('/content/drive/MyDrive/Projects/Timeseries_project/data/stores.csv')\n",
    "df_items = pd.read_csv('/content/drive/MyDrive/Projects/Timeseries_project/data/items.csv')\n",
    "df_holidays_event = pd.read_csv('/content/drive/MyDrive/Projects/Timeseries_project/data/holidays_events.csv')\n",
    "df_sample_submission = pd.read_csv('/content/drive/MyDrive/Projects/Timeseries_project/data/sample_submission.csv')\n",
    "df_oil = pd.read_csv('/content/drive/MyDrive/Projects/Timeseries_project/data/oil.csv')\n",
    "df_test = pd.read_csv('/content/drive/MyDrive/Projects/Timeseries_project/data/test.csv')\n",
    "df_transactions = pd.read_csv('/content/drive/MyDrive/Projects/Timeseries_project/data/transactions.csv')\n",
    "df_train_Guayas = pd.read_csv('/content/drive/MyDrive/Projects/Timeseries_project/data/train_Guayas.csv')\n"
   ]
  },
  {
   "cell_type": "code",
   "execution_count": null,
   "metadata": {},
   "outputs": [
    {
     "name": "stderr",
     "output_type": "stream",
     "text": [
      "/var/folders/c8/sh5pt5vd6l18mnnz089s6hd80000gn/T/ipykernel_39694/1067542697.py:9: DtypeWarning: Columns (5) have mixed types. Specify dtype option on import or set low_memory=False.\n",
      "  df_train_Guayas = pd.read_csv(file_path + 'train_Guayas.csv')\n"
     ]
    }
   ],
   "source": [
    "# Read data locally \n",
    "\n",
    "file_path = '/Users/D065623/Documents/Amna/Time_series_project/Data/'\n",
    "\n",
    "df_stores = pd.read_csv(file_path + 'stores.csv')\n",
    "df_items = pd.read_csv(file_path + 'items.csv')\n",
    "df_holidays_event = pd.read_csv(file_path + 'holidays_events.csv')\n",
    "df_oil = pd.read_csv(file_path + 'oil.csv')\n",
    "df_train_Guayas = pd.read_csv(file_path + 'train_Guayas.csv')"
   ]
  },
  {
   "cell_type": "code",
   "execution_count": null,
   "metadata": {
    "colab": {
     "base_uri": "https://localhost:8080/"
    },
    "executionInfo": {
     "elapsed": 522,
     "status": "ok",
     "timestamp": 1749756255112,
     "user": {
      "displayName": "nuzhat amna",
      "userId": "14208939946541820310"
     },
     "user_tz": -120
    },
    "id": "EsMP6AXeBqWX",
    "outputId": "75008588-f14f-48a6-8984-555ff7d19337"
   },
   "outputs": [
    {
     "data": {
      "text/plain": [
       "(14745768, 6)"
      ]
     },
     "execution_count": 3,
     "metadata": {},
     "output_type": "execute_result"
    }
   ],
   "source": [
    "df_train = df_train_Guayas.copy()\n",
    "df_train.shape"
   ]
  },
  {
   "cell_type": "markdown",
   "metadata": {
    "id": "hhIk-LEziAXu"
   },
   "source": [
    "# 3- Data Preprocessing"
   ]
  },
  {
   "cell_type": "code",
   "execution_count": null,
   "metadata": {
    "colab": {
     "base_uri": "https://localhost:8080/",
     "height": 206
    },
    "executionInfo": {
     "elapsed": 196,
     "status": "ok",
     "timestamp": 1749756257687,
     "user": {
      "displayName": "nuzhat amna",
      "userId": "14208939946541820310"
     },
     "user_tz": -120
    },
    "id": "6pLvTmD45SWn",
    "outputId": "084c90e6-f09e-4689-bed8-7ae4736c418f"
   },
   "outputs": [
    {
     "data": {
      "text/html": [
       "<div>\n",
       "<style scoped>\n",
       "    .dataframe tbody tr th:only-of-type {\n",
       "        vertical-align: middle;\n",
       "    }\n",
       "\n",
       "    .dataframe tbody tr th {\n",
       "        vertical-align: top;\n",
       "    }\n",
       "\n",
       "    .dataframe thead th {\n",
       "        text-align: right;\n",
       "    }\n",
       "</style>\n",
       "<table border=\"1\" class=\"dataframe\">\n",
       "  <thead>\n",
       "    <tr style=\"text-align: right;\">\n",
       "      <th></th>\n",
       "      <th>id</th>\n",
       "      <th>date</th>\n",
       "      <th>store_nbr</th>\n",
       "      <th>item_nbr</th>\n",
       "      <th>unit_sales</th>\n",
       "      <th>onpromotion</th>\n",
       "    </tr>\n",
       "  </thead>\n",
       "  <tbody>\n",
       "    <tr>\n",
       "      <th>0</th>\n",
       "      <td>18790</td>\n",
       "      <td>2013-01-02</td>\n",
       "      <td>24</td>\n",
       "      <td>105574</td>\n",
       "      <td>12.0</td>\n",
       "      <td>NaN</td>\n",
       "    </tr>\n",
       "    <tr>\n",
       "      <th>1</th>\n",
       "      <td>18791</td>\n",
       "      <td>2013-01-02</td>\n",
       "      <td>24</td>\n",
       "      <td>105575</td>\n",
       "      <td>2.0</td>\n",
       "      <td>NaN</td>\n",
       "    </tr>\n",
       "    <tr>\n",
       "      <th>2</th>\n",
       "      <td>18792</td>\n",
       "      <td>2013-01-02</td>\n",
       "      <td>24</td>\n",
       "      <td>105577</td>\n",
       "      <td>1.0</td>\n",
       "      <td>NaN</td>\n",
       "    </tr>\n",
       "    <tr>\n",
       "      <th>3</th>\n",
       "      <td>18793</td>\n",
       "      <td>2013-01-02</td>\n",
       "      <td>24</td>\n",
       "      <td>105693</td>\n",
       "      <td>7.0</td>\n",
       "      <td>NaN</td>\n",
       "    </tr>\n",
       "    <tr>\n",
       "      <th>4</th>\n",
       "      <td>18794</td>\n",
       "      <td>2013-01-02</td>\n",
       "      <td>24</td>\n",
       "      <td>105737</td>\n",
       "      <td>17.0</td>\n",
       "      <td>NaN</td>\n",
       "    </tr>\n",
       "  </tbody>\n",
       "</table>\n",
       "</div>"
      ],
      "text/plain": [
       "      id        date  store_nbr  item_nbr  unit_sales onpromotion\n",
       "0  18790  2013-01-02         24    105574        12.0         NaN\n",
       "1  18791  2013-01-02         24    105575         2.0         NaN\n",
       "2  18792  2013-01-02         24    105577         1.0         NaN\n",
       "3  18793  2013-01-02         24    105693         7.0         NaN\n",
       "4  18794  2013-01-02         24    105737        17.0         NaN"
      ]
     },
     "execution_count": 4,
     "metadata": {},
     "output_type": "execute_result"
    }
   ],
   "source": [
    "df_train.head()"
   ]
  },
  {
   "cell_type": "markdown",
   "metadata": {
    "id": "9TVQcDAW3DWv"
   },
   "source": [
    "## 3.1- Checking Missing values"
   ]
  },
  {
   "cell_type": "code",
   "execution_count": null,
   "metadata": {
    "colab": {
     "base_uri": "https://localhost:8080/",
     "height": 272
    },
    "executionInfo": {
     "elapsed": 1319,
     "status": "ok",
     "timestamp": 1749756263082,
     "user": {
      "displayName": "nuzhat amna",
      "userId": "14208939946541820310"
     },
     "user_tz": -120
    },
    "id": "90bRQEyQ3HnO",
    "outputId": "d5bab8a7-1b13-4647-c1f1-fc1d0dffadc5"
   },
   "outputs": [
    {
     "data": {
      "text/plain": [
       "id                   0\n",
       "date                 0\n",
       "store_nbr            0\n",
       "item_nbr             0\n",
       "unit_sales           0\n",
       "onpromotion    2747275\n",
       "dtype: int64"
      ]
     },
     "execution_count": 5,
     "metadata": {},
     "output_type": "execute_result"
    }
   ],
   "source": [
    "df_train.isnull().sum() #show the count of missing values"
   ]
  },
  {
   "cell_type": "code",
   "execution_count": null,
   "metadata": {
    "colab": {
     "base_uri": "https://localhost:8080/"
    },
    "executionInfo": {
     "elapsed": 7,
     "status": "ok",
     "timestamp": 1749756266112,
     "user": {
      "displayName": "nuzhat amna",
      "userId": "14208939946541820310"
     },
     "user_tz": -120
    },
    "id": "fyWDMj9ckz_T",
    "outputId": "271864ab-ca10-49fc-cd20-07008cebcf77"
   },
   "outputs": [
    {
     "data": {
      "text/plain": [
       "array([nan, False, True], dtype=object)"
      ]
     },
     "execution_count": 6,
     "metadata": {},
     "output_type": "execute_result"
    }
   ],
   "source": [
    "df_train['onpromotion'].unique()"
   ]
  },
  {
   "cell_type": "code",
   "execution_count": null,
   "metadata": {
    "colab": {
     "base_uri": "https://localhost:8080/",
     "height": 178
    },
    "executionInfo": {
     "elapsed": 714,
     "status": "ok",
     "timestamp": 1749756269132,
     "user": {
      "displayName": "nuzhat amna",
      "userId": "14208939946541820310"
     },
     "user_tz": -120
    },
    "id": "H43dz-PP3OJ3",
    "outputId": "95c36d2e-b8c0-45ca-afc6-9bb955eebb1b"
   },
   "outputs": [
    {
     "data": {
      "text/plain": [
       "onpromotion\n",
       "False    11319196\n",
       "True       679297\n",
       "Name: count, dtype: int64"
      ]
     },
     "execution_count": 7,
     "metadata": {},
     "output_type": "execute_result"
    }
   ],
   "source": [
    "\n",
    "df_train['onpromotion'].value_counts()"
   ]
  },
  {
   "cell_type": "code",
   "execution_count": null,
   "metadata": {
    "colab": {
     "base_uri": "https://localhost:8080/",
     "height": 453
    },
    "executionInfo": {
     "elapsed": 1831,
     "status": "ok",
     "timestamp": 1749756274147,
     "user": {
      "displayName": "nuzhat amna",
      "userId": "14208939946541820310"
     },
     "user_tz": -120
    },
    "id": "cxMkHsoc3Zsa",
    "outputId": "dc2d9c72-b4b0-4ab1-9a98-e7a322f1e966"
   },
   "outputs": [
    {
     "name": "stderr",
     "output_type": "stream",
     "text": [
      "/var/folders/c8/sh5pt5vd6l18mnnz089s6hd80000gn/T/ipykernel_39694/194577022.py:1: FutureWarning: A value is trying to be set on a copy of a DataFrame or Series through chained assignment using an inplace method.\n",
      "The behavior will change in pandas 3.0. This inplace method will never work because the intermediate object on which we are setting values always behaves as a copy.\n",
      "\n",
      "For example, when doing 'df[col].method(value, inplace=True)', try using 'df.method({col: value}, inplace=True)' or df[col] = df[col].method(value) instead, to perform the operation inplace on the original object.\n",
      "\n",
      "\n",
      "  df_train['onpromotion'].fillna(False, inplace=True) #nulls value replaced and column type changed\n",
      "/var/folders/c8/sh5pt5vd6l18mnnz089s6hd80000gn/T/ipykernel_39694/194577022.py:1: FutureWarning: Downcasting object dtype arrays on .fillna, .ffill, .bfill is deprecated and will change in a future version. Call result.infer_objects(copy=False) instead. To opt-in to the future behavior, set `pd.set_option('future.no_silent_downcasting', True)`\n",
      "  df_train['onpromotion'].fillna(False, inplace=True) #nulls value replaced and column type changed\n"
     ]
    },
    {
     "data": {
      "text/plain": [
       "id             0\n",
       "date           0\n",
       "store_nbr      0\n",
       "item_nbr       0\n",
       "unit_sales     0\n",
       "onpromotion    0\n",
       "dtype: int64"
      ]
     },
     "execution_count": 8,
     "metadata": {},
     "output_type": "execute_result"
    }
   ],
   "source": [
    "df_train['onpromotion'].fillna(False, inplace=True) #nulls value replaced and column type changed\n",
    "df_train['onpromotion']= df_train['onpromotion'].astype(bool)\n",
    "df_train.isnull().sum()"
   ]
  },
  {
   "cell_type": "code",
   "execution_count": null,
   "metadata": {
    "colab": {
     "base_uri": "https://localhost:8080/"
    },
    "executionInfo": {
     "elapsed": 113,
     "status": "ok",
     "timestamp": 1749756277940,
     "user": {
      "displayName": "nuzhat amna",
      "userId": "14208939946541820310"
     },
     "user_tz": -120
    },
    "id": "wHPswnUMj_1G",
    "outputId": "e1861d1d-a6ef-4bbe-d047-6caa76bffac3"
   },
   "outputs": [
    {
     "data": {
      "text/plain": [
       "array([False,  True])"
      ]
     },
     "execution_count": 9,
     "metadata": {},
     "output_type": "execute_result"
    }
   ],
   "source": [
    "df_train['onpromotion'].unique()"
   ]
  },
  {
   "cell_type": "code",
   "execution_count": null,
   "metadata": {
    "colab": {
     "base_uri": "https://localhost:8080/",
     "height": 178
    },
    "executionInfo": {
     "elapsed": 27,
     "status": "ok",
     "timestamp": 1749756279959,
     "user": {
      "displayName": "nuzhat amna",
      "userId": "14208939946541820310"
     },
     "user_tz": -120
    },
    "id": "Zjqh5jGtkkoV",
    "outputId": "226407db-266c-4843-ec64-94ec89633896"
   },
   "outputs": [
    {
     "data": {
      "text/plain": [
       "onpromotion\n",
       "False    14066471\n",
       "True       679297\n",
       "Name: count, dtype: int64"
      ]
     },
     "execution_count": 10,
     "metadata": {},
     "output_type": "execute_result"
    }
   ],
   "source": [
    "df_train['onpromotion'].value_counts()"
   ]
  },
  {
   "cell_type": "markdown",
   "metadata": {
    "id": "7FxZIk_r5aSw"
   },
   "source": [
    "## 3.2- Replacing negative unit sales"
   ]
  },
  {
   "cell_type": "code",
   "execution_count": null,
   "metadata": {
    "colab": {
     "base_uri": "https://localhost:8080/",
     "height": 175
    },
    "executionInfo": {
     "elapsed": 2084,
     "status": "ok",
     "timestamp": 1749756285536,
     "user": {
      "displayName": "nuzhat amna",
      "userId": "14208939946541820310"
     },
     "user_tz": -120
    },
    "id": "a94sJ3nN5H4m",
    "outputId": "9be050bf-4ad6-492a-a471-ec8e5c69d753"
   },
   "outputs": [
    {
     "data": {
      "text/html": [
       "<div>\n",
       "<style scoped>\n",
       "    .dataframe tbody tr th:only-of-type {\n",
       "        vertical-align: middle;\n",
       "    }\n",
       "\n",
       "    .dataframe tbody tr th {\n",
       "        vertical-align: top;\n",
       "    }\n",
       "\n",
       "    .dataframe thead th {\n",
       "        text-align: right;\n",
       "    }\n",
       "</style>\n",
       "<table border=\"1\" class=\"dataframe\">\n",
       "  <thead>\n",
       "    <tr style=\"text-align: right;\">\n",
       "      <th></th>\n",
       "      <th>count</th>\n",
       "      <th>mean</th>\n",
       "      <th>std</th>\n",
       "      <th>min</th>\n",
       "      <th>25%</th>\n",
       "      <th>50%</th>\n",
       "      <th>75%</th>\n",
       "      <th>max</th>\n",
       "    </tr>\n",
       "  </thead>\n",
       "  <tbody>\n",
       "    <tr>\n",
       "      <th>id</th>\n",
       "      <td>14745768.0</td>\n",
       "      <td>6.151701e+07</td>\n",
       "      <td>3.639139e+07</td>\n",
       "      <td>18790.0</td>\n",
       "      <td>29851028.75</td>\n",
       "      <td>60877412.0</td>\n",
       "      <td>92995259.25</td>\n",
       "      <td>125491523.0</td>\n",
       "    </tr>\n",
       "    <tr>\n",
       "      <th>store_nbr</th>\n",
       "      <td>14745768.0</td>\n",
       "      <td>3.245622e+01</td>\n",
       "      <td>7.850337e+00</td>\n",
       "      <td>24.0</td>\n",
       "      <td>27.00</td>\n",
       "      <td>30.0</td>\n",
       "      <td>35.00</td>\n",
       "      <td>51.0</td>\n",
       "    </tr>\n",
       "    <tr>\n",
       "      <th>item_nbr</th>\n",
       "      <td>14745768.0</td>\n",
       "      <td>9.031913e+05</td>\n",
       "      <td>5.233564e+05</td>\n",
       "      <td>96995.0</td>\n",
       "      <td>422452.00</td>\n",
       "      <td>886398.0</td>\n",
       "      <td>1209721.00</td>\n",
       "      <td>2127114.0</td>\n",
       "    </tr>\n",
       "    <tr>\n",
       "      <th>unit_sales</th>\n",
       "      <td>14745768.0</td>\n",
       "      <td>6.814486e+00</td>\n",
       "      <td>1.889631e+01</td>\n",
       "      <td>-10002.0</td>\n",
       "      <td>2.00</td>\n",
       "      <td>3.0</td>\n",
       "      <td>7.00</td>\n",
       "      <td>17146.0</td>\n",
       "    </tr>\n",
       "  </tbody>\n",
       "</table>\n",
       "</div>"
      ],
      "text/plain": [
       "                 count          mean           std      min          25%  \\\n",
       "id          14745768.0  6.151701e+07  3.639139e+07  18790.0  29851028.75   \n",
       "store_nbr   14745768.0  3.245622e+01  7.850337e+00     24.0        27.00   \n",
       "item_nbr    14745768.0  9.031913e+05  5.233564e+05  96995.0    422452.00   \n",
       "unit_sales  14745768.0  6.814486e+00  1.889631e+01 -10002.0         2.00   \n",
       "\n",
       "                   50%          75%          max  \n",
       "id          60877412.0  92995259.25  125491523.0  \n",
       "store_nbr         30.0        35.00         51.0  \n",
       "item_nbr      886398.0   1209721.00    2127114.0  \n",
       "unit_sales         3.0         7.00      17146.0  "
      ]
     },
     "execution_count": 11,
     "metadata": {},
     "output_type": "execute_result"
    }
   ],
   "source": [
    "df_train.describe().T"
   ]
  },
  {
   "cell_type": "code",
   "execution_count": null,
   "metadata": {
    "executionInfo": {
     "elapsed": 42,
     "status": "ok",
     "timestamp": 1749756288358,
     "user": {
      "displayName": "nuzhat amna",
      "userId": "14208939946541820310"
     },
     "user_tz": -120
    },
    "id": "MgX2rer87vNr"
   },
   "outputs": [],
   "source": [
    "df_train.loc[df_train['unit_sales']<0,'unit_sales'] = 0"
   ]
  },
  {
   "cell_type": "markdown",
   "metadata": {
    "id": "yb8Uf4OS8GkC"
   },
   "source": [
    "## 3.3- Outlier detection"
   ]
  },
  {
   "cell_type": "code",
   "execution_count": null,
   "metadata": {
    "executionInfo": {
     "elapsed": 38,
     "status": "ok",
     "timestamp": 1749756294069,
     "user": {
      "displayName": "nuzhat amna",
      "userId": "14208939946541820310"
     },
     "user_tz": -120
    },
    "id": "IaiYchOdgsBI"
   },
   "outputs": [],
   "source": [
    "# calculate z_score\n",
    "def calculate_Z_score(group):\n",
    "    mean_sales = group['unit_sales'].mean()\n",
    "    std_sales = group['unit_sales'].std()\n",
    "    z_scores = (group['unit_sales'] - mean_sales) / std_sales if std_sales != 0 else 1\n",
    "    group['z_score'] = z_scores\n",
    "    return group"
   ]
  },
  {
   "cell_type": "code",
   "execution_count": null,
   "metadata": {
    "colab": {
     "base_uri": "https://localhost:8080/",
     "height": 293
    },
    "executionInfo": {
     "elapsed": 24966,
     "status": "ok",
     "timestamp": 1749756322533,
     "user": {
      "displayName": "nuzhat amna",
      "userId": "14208939946541820310"
     },
     "user_tz": -120
    },
    "id": "Q_0OKTBT8FR4",
    "outputId": "f899966c-c4eb-45bf-c16d-4fbfa090fb94"
   },
   "outputs": [
    {
     "name": "stderr",
     "output_type": "stream",
     "text": [
      "/var/folders/c8/sh5pt5vd6l18mnnz089s6hd80000gn/T/ipykernel_39694/2064882231.py:1: DeprecationWarning: DataFrameGroupBy.apply operated on the grouping columns. This behavior is deprecated, and in a future version of pandas the grouping columns will be excluded from the operation. Either pass `include_groups=False` to exclude the groupings or explicitly select the grouping columns after groupby to silence this warning.\n",
      "  df_train_grouped = df_train.groupby(['store_nbr', 'item_nbr']).apply(calculate_Z_score)\n"
     ]
    },
    {
     "data": {
      "text/html": [
       "<div>\n",
       "<style scoped>\n",
       "    .dataframe tbody tr th:only-of-type {\n",
       "        vertical-align: middle;\n",
       "    }\n",
       "\n",
       "    .dataframe tbody tr th {\n",
       "        vertical-align: top;\n",
       "    }\n",
       "\n",
       "    .dataframe thead th {\n",
       "        text-align: right;\n",
       "    }\n",
       "</style>\n",
       "<table border=\"1\" class=\"dataframe\">\n",
       "  <thead>\n",
       "    <tr style=\"text-align: right;\">\n",
       "      <th></th>\n",
       "      <th></th>\n",
       "      <th></th>\n",
       "      <th>id</th>\n",
       "      <th>date</th>\n",
       "      <th>store_nbr</th>\n",
       "      <th>item_nbr</th>\n",
       "      <th>unit_sales</th>\n",
       "      <th>onpromotion</th>\n",
       "      <th>z_score</th>\n",
       "    </tr>\n",
       "    <tr>\n",
       "      <th>store_nbr</th>\n",
       "      <th>item_nbr</th>\n",
       "      <th></th>\n",
       "      <th></th>\n",
       "      <th></th>\n",
       "      <th></th>\n",
       "      <th></th>\n",
       "      <th></th>\n",
       "      <th></th>\n",
       "      <th></th>\n",
       "    </tr>\n",
       "  </thead>\n",
       "  <tbody>\n",
       "    <tr>\n",
       "      <th rowspan=\"5\" valign=\"top\">24</th>\n",
       "      <th rowspan=\"5\" valign=\"top\">96995</th>\n",
       "      <th>34742</th>\n",
       "      <td>302230</td>\n",
       "      <td>2013-01-09</td>\n",
       "      <td>24</td>\n",
       "      <td>96995</td>\n",
       "      <td>2.0</td>\n",
       "      <td>False</td>\n",
       "      <td>0.053571</td>\n",
       "    </tr>\n",
       "    <tr>\n",
       "      <th>48648</th>\n",
       "      <td>419989</td>\n",
       "      <td>2013-01-12</td>\n",
       "      <td>24</td>\n",
       "      <td>96995</td>\n",
       "      <td>2.0</td>\n",
       "      <td>False</td>\n",
       "      <td>0.053571</td>\n",
       "    </tr>\n",
       "    <tr>\n",
       "      <th>68758</th>\n",
       "      <td>582436</td>\n",
       "      <td>2013-01-16</td>\n",
       "      <td>24</td>\n",
       "      <td>96995</td>\n",
       "      <td>1.0</td>\n",
       "      <td>False</td>\n",
       "      <td>-0.604164</td>\n",
       "    </tr>\n",
       "    <tr>\n",
       "      <th>73699</th>\n",
       "      <td>622071</td>\n",
       "      <td>2013-01-17</td>\n",
       "      <td>24</td>\n",
       "      <td>96995</td>\n",
       "      <td>2.0</td>\n",
       "      <td>False</td>\n",
       "      <td>0.053571</td>\n",
       "    </tr>\n",
       "    <tr>\n",
       "      <th>88770</th>\n",
       "      <td>745650</td>\n",
       "      <td>2013-01-20</td>\n",
       "      <td>24</td>\n",
       "      <td>96995</td>\n",
       "      <td>3.0</td>\n",
       "      <td>False</td>\n",
       "      <td>0.711307</td>\n",
       "    </tr>\n",
       "  </tbody>\n",
       "</table>\n",
       "</div>"
      ],
      "text/plain": [
       "                              id        date  store_nbr  item_nbr  unit_sales  \\\n",
       "store_nbr item_nbr                                                              \n",
       "24        96995    34742  302230  2013-01-09         24     96995         2.0   \n",
       "                   48648  419989  2013-01-12         24     96995         2.0   \n",
       "                   68758  582436  2013-01-16         24     96995         1.0   \n",
       "                   73699  622071  2013-01-17         24     96995         2.0   \n",
       "                   88770  745650  2013-01-20         24     96995         3.0   \n",
       "\n",
       "                          onpromotion   z_score  \n",
       "store_nbr item_nbr                               \n",
       "24        96995    34742        False  0.053571  \n",
       "                   48648        False  0.053571  \n",
       "                   68758        False -0.604164  \n",
       "                   73699        False  0.053571  \n",
       "                   88770        False  0.711307  "
      ]
     },
     "execution_count": 14,
     "metadata": {},
     "output_type": "execute_result"
    }
   ],
   "source": [
    "df_train_grouped = df_train.groupby(['store_nbr', 'item_nbr']).apply(calculate_Z_score)\n",
    "df_train_grouped.head()"
   ]
  },
  {
   "cell_type": "code",
   "execution_count": null,
   "metadata": {
    "colab": {
     "base_uri": "https://localhost:8080/",
     "height": 455
    },
    "executionInfo": {
     "elapsed": 117,
     "status": "ok",
     "timestamp": 1749756326941,
     "user": {
      "displayName": "nuzhat amna",
      "userId": "14208939946541820310"
     },
     "user_tz": -120
    },
    "id": "h10gartzh8If",
    "outputId": "5e057d35-f28f-4e49-e6fa-d358aee4697d"
   },
   "outputs": [
    {
     "data": {
      "text/html": [
       "<div>\n",
       "<style scoped>\n",
       "    .dataframe tbody tr th:only-of-type {\n",
       "        vertical-align: middle;\n",
       "    }\n",
       "\n",
       "    .dataframe tbody tr th {\n",
       "        vertical-align: top;\n",
       "    }\n",
       "\n",
       "    .dataframe thead th {\n",
       "        text-align: right;\n",
       "    }\n",
       "</style>\n",
       "<table border=\"1\" class=\"dataframe\">\n",
       "  <thead>\n",
       "    <tr style=\"text-align: right;\">\n",
       "      <th></th>\n",
       "      <th></th>\n",
       "      <th></th>\n",
       "      <th>id</th>\n",
       "      <th>date</th>\n",
       "      <th>store_nbr</th>\n",
       "      <th>item_nbr</th>\n",
       "      <th>unit_sales</th>\n",
       "      <th>onpromotion</th>\n",
       "      <th>z_score</th>\n",
       "    </tr>\n",
       "    <tr>\n",
       "      <th>store_nbr</th>\n",
       "      <th>item_nbr</th>\n",
       "      <th></th>\n",
       "      <th></th>\n",
       "      <th></th>\n",
       "      <th></th>\n",
       "      <th></th>\n",
       "      <th></th>\n",
       "      <th></th>\n",
       "      <th></th>\n",
       "    </tr>\n",
       "  </thead>\n",
       "  <tbody>\n",
       "    <tr>\n",
       "      <th rowspan=\"5\" valign=\"top\">24</th>\n",
       "      <th>96995</th>\n",
       "      <th>2029557</th>\n",
       "      <td>15666702</td>\n",
       "      <td>2013-12-18</td>\n",
       "      <td>24</td>\n",
       "      <td>96995</td>\n",
       "      <td>14.0</td>\n",
       "      <td>False</td>\n",
       "      <td>7.946399</td>\n",
       "    </tr>\n",
       "    <tr>\n",
       "      <th rowspan=\"2\" valign=\"top\">99197</th>\n",
       "      <th>7241112</th>\n",
       "      <td>59775862</td>\n",
       "      <td>2015-10-20</td>\n",
       "      <td>24</td>\n",
       "      <td>99197</td>\n",
       "      <td>14.0</td>\n",
       "      <td>False</td>\n",
       "      <td>5.822016</td>\n",
       "    </tr>\n",
       "    <tr>\n",
       "      <th>7303849</th>\n",
       "      <td>60322807</td>\n",
       "      <td>2015-10-26</td>\n",
       "      <td>24</td>\n",
       "      <td>99197</td>\n",
       "      <td>19.0</td>\n",
       "      <td>False</td>\n",
       "      <td>8.276173</td>\n",
       "    </tr>\n",
       "    <tr>\n",
       "      <th rowspan=\"2\" valign=\"top\">103520</th>\n",
       "      <th>2036242</th>\n",
       "      <td>15717753</td>\n",
       "      <td>2013-12-19</td>\n",
       "      <td>24</td>\n",
       "      <td>103520</td>\n",
       "      <td>27.0</td>\n",
       "      <td>False</td>\n",
       "      <td>6.642670</td>\n",
       "    </tr>\n",
       "    <tr>\n",
       "      <th>2415492</th>\n",
       "      <td>18886543</td>\n",
       "      <td>2014-02-13</td>\n",
       "      <td>24</td>\n",
       "      <td>103520</td>\n",
       "      <td>22.0</td>\n",
       "      <td>False</td>\n",
       "      <td>5.154400</td>\n",
       "    </tr>\n",
       "    <tr>\n",
       "      <th>...</th>\n",
       "      <th>...</th>\n",
       "      <th>...</th>\n",
       "      <td>...</td>\n",
       "      <td>...</td>\n",
       "      <td>...</td>\n",
       "      <td>...</td>\n",
       "      <td>...</td>\n",
       "      <td>...</td>\n",
       "      <td>...</td>\n",
       "    </tr>\n",
       "    <tr>\n",
       "      <th rowspan=\"5\" valign=\"top\">51</th>\n",
       "      <th>2048609</th>\n",
       "      <th>13492066</th>\n",
       "      <td>114286905</td>\n",
       "      <td>2017-05-01</td>\n",
       "      <td>51</td>\n",
       "      <td>2048609</td>\n",
       "      <td>48.0</td>\n",
       "      <td>False</td>\n",
       "      <td>7.830664</td>\n",
       "    </tr>\n",
       "    <tr>\n",
       "      <th>2054291</th>\n",
       "      <th>12349340</th>\n",
       "      <td>104195298</td>\n",
       "      <td>2017-01-25</td>\n",
       "      <td>51</td>\n",
       "      <td>2054291</td>\n",
       "      <td>21.0</td>\n",
       "      <td>False</td>\n",
       "      <td>6.141217</td>\n",
       "    </tr>\n",
       "    <tr>\n",
       "      <th>2057033</th>\n",
       "      <th>14396173</th>\n",
       "      <td>122354227</td>\n",
       "      <td>2017-07-16</td>\n",
       "      <td>51</td>\n",
       "      <td>2057033</td>\n",
       "      <td>21.0</td>\n",
       "      <td>True</td>\n",
       "      <td>5.247882</td>\n",
       "    </tr>\n",
       "    <tr>\n",
       "      <th>2058907</th>\n",
       "      <th>13800316</th>\n",
       "      <td>117045510</td>\n",
       "      <td>2017-05-27</td>\n",
       "      <td>51</td>\n",
       "      <td>2058907</td>\n",
       "      <td>12.0</td>\n",
       "      <td>False</td>\n",
       "      <td>5.054512</td>\n",
       "    </tr>\n",
       "    <tr>\n",
       "      <th>2068536</th>\n",
       "      <th>13006731</th>\n",
       "      <td>109972933</td>\n",
       "      <td>2017-03-21</td>\n",
       "      <td>51</td>\n",
       "      <td>2068536</td>\n",
       "      <td>374.0</td>\n",
       "      <td>True</td>\n",
       "      <td>11.238102</td>\n",
       "    </tr>\n",
       "  </tbody>\n",
       "</table>\n",
       "<p>48485 rows × 7 columns</p>\n",
       "</div>"
      ],
      "text/plain": [
       "                                    id        date  store_nbr  item_nbr  \\\n",
       "store_nbr item_nbr                                                        \n",
       "24        96995    2029557    15666702  2013-12-18         24     96995   \n",
       "          99197    7241112    59775862  2015-10-20         24     99197   \n",
       "                   7303849    60322807  2015-10-26         24     99197   \n",
       "          103520   2036242    15717753  2013-12-19         24    103520   \n",
       "                   2415492    18886543  2014-02-13         24    103520   \n",
       "...                                ...         ...        ...       ...   \n",
       "51        2048609  13492066  114286905  2017-05-01         51   2048609   \n",
       "          2054291  12349340  104195298  2017-01-25         51   2054291   \n",
       "          2057033  14396173  122354227  2017-07-16         51   2057033   \n",
       "          2058907  13800316  117045510  2017-05-27         51   2058907   \n",
       "          2068536  13006731  109972933  2017-03-21         51   2068536   \n",
       "\n",
       "                             unit_sales  onpromotion    z_score  \n",
       "store_nbr item_nbr                                               \n",
       "24        96995    2029557         14.0        False   7.946399  \n",
       "          99197    7241112         14.0        False   5.822016  \n",
       "                   7303849         19.0        False   8.276173  \n",
       "          103520   2036242         27.0        False   6.642670  \n",
       "                   2415492         22.0        False   5.154400  \n",
       "...                                 ...          ...        ...  \n",
       "51        2048609  13492066        48.0        False   7.830664  \n",
       "          2054291  12349340        21.0        False   6.141217  \n",
       "          2057033  14396173        21.0         True   5.247882  \n",
       "          2058907  13800316        12.0        False   5.054512  \n",
       "          2068536  13006731       374.0         True  11.238102  \n",
       "\n",
       "[48485 rows x 7 columns]"
      ]
     },
     "execution_count": 15,
     "metadata": {},
     "output_type": "execute_result"
    }
   ],
   "source": [
    "#finding outlier using thresh_hold z_score > 5\n",
    "outlier = df_train_grouped[df_train_grouped['z_score']>5]\n",
    "outlier\n",
    "\n",
    "\n",
    "\n",
    "\n"
   ]
  },
  {
   "cell_type": "markdown",
   "metadata": {
    "id": "mU95hknmlZwU"
   },
   "source": [
    "considering the count of these entries, it is indicated that probably they are just big sales and not be cosidered as outliers."
   ]
  },
  {
   "cell_type": "code",
   "execution_count": null,
   "metadata": {
    "executionInfo": {
     "elapsed": 3,
     "status": "ok",
     "timestamp": 1749756350209,
     "user": {
      "displayName": "nuzhat amna",
      "userId": "14208939946541820310"
     },
     "user_tz": -120
    },
    "id": "Dy52b25VIO0E"
   },
   "outputs": [],
   "source": [
    "del(df_train_grouped)"
   ]
  },
  {
   "cell_type": "markdown",
   "metadata": {
    "id": "3T1nqCxVDzhe"
   },
   "source": [
    "## 3.4- Dealing with missing dates with zero sales"
   ]
  },
  {
   "cell_type": "code",
   "execution_count": null,
   "metadata": {
    "colab": {
     "base_uri": "https://localhost:8080/",
     "height": 206
    },
    "executionInfo": {
     "elapsed": 954,
     "status": "ok",
     "timestamp": 1749756366088,
     "user": {
      "displayName": "nuzhat amna",
      "userId": "14208939946541820310"
     },
     "user_tz": -120
    },
    "id": "5WX7LtJ2DzHR",
    "outputId": "c53f5928-d2fb-444a-9b06-9bb7382a7975"
   },
   "outputs": [
    {
     "data": {
      "text/html": [
       "<div>\n",
       "<style scoped>\n",
       "    .dataframe tbody tr th:only-of-type {\n",
       "        vertical-align: middle;\n",
       "    }\n",
       "\n",
       "    .dataframe tbody tr th {\n",
       "        vertical-align: top;\n",
       "    }\n",
       "\n",
       "    .dataframe thead th {\n",
       "        text-align: right;\n",
       "    }\n",
       "</style>\n",
       "<table border=\"1\" class=\"dataframe\">\n",
       "  <thead>\n",
       "    <tr style=\"text-align: right;\">\n",
       "      <th></th>\n",
       "      <th>date</th>\n",
       "    </tr>\n",
       "  </thead>\n",
       "  <tbody>\n",
       "    <tr>\n",
       "      <th>0</th>\n",
       "      <td>2013-01-02</td>\n",
       "    </tr>\n",
       "    <tr>\n",
       "      <th>1</th>\n",
       "      <td>2013-01-03</td>\n",
       "    </tr>\n",
       "    <tr>\n",
       "      <th>2</th>\n",
       "      <td>2013-01-04</td>\n",
       "    </tr>\n",
       "    <tr>\n",
       "      <th>3</th>\n",
       "      <td>2013-01-05</td>\n",
       "    </tr>\n",
       "    <tr>\n",
       "      <th>4</th>\n",
       "      <td>2013-01-06</td>\n",
       "    </tr>\n",
       "  </tbody>\n",
       "</table>\n",
       "</div>"
      ],
      "text/plain": [
       "        date\n",
       "0 2013-01-02\n",
       "1 2013-01-03\n",
       "2 2013-01-04\n",
       "3 2013-01-05\n",
       "4 2013-01-06"
      ]
     },
     "execution_count": 17,
     "metadata": {},
     "output_type": "execute_result"
    }
   ],
   "source": [
    "#get the all posible dates in the range of df_traine['date'] min and max values\n",
    "df_train['date'] = pd.to_datetime(df_train['date'])\n",
    "min_date = df_train['date'].min()\n",
    "max_date = df_train['date'].max()\n",
    "df_full_date_range = pd.date_range(start=min_date, end=max_date, freq='D')\n",
    "df_full_date_range = pd.DataFrame({'date': df_full_date_range})\n",
    "df_full_date_range.head()"
   ]
  },
  {
   "cell_type": "code",
   "execution_count": null,
   "metadata": {
    "colab": {
     "base_uri": "https://localhost:8080/",
     "height": 206
    },
    "executionInfo": {
     "elapsed": 5233,
     "status": "ok",
     "timestamp": 1749756376235,
     "user": {
      "displayName": "nuzhat amna",
      "userId": "14208939946541820310"
     },
     "user_tz": -120
    },
    "id": "EKfVhN5E-7Jz",
    "outputId": "eb00618a-b0a4-4d50-bc3c-d4b0b9726361"
   },
   "outputs": [
    {
     "data": {
      "text/html": [
       "<div>\n",
       "<style scoped>\n",
       "    .dataframe tbody tr th:only-of-type {\n",
       "        vertical-align: middle;\n",
       "    }\n",
       "\n",
       "    .dataframe tbody tr th {\n",
       "        vertical-align: top;\n",
       "    }\n",
       "\n",
       "    .dataframe thead th {\n",
       "        text-align: right;\n",
       "    }\n",
       "</style>\n",
       "<table border=\"1\" class=\"dataframe\">\n",
       "  <thead>\n",
       "    <tr style=\"text-align: right;\">\n",
       "      <th></th>\n",
       "      <th>store_nbr</th>\n",
       "      <th>item_nbr</th>\n",
       "      <th>date</th>\n",
       "    </tr>\n",
       "  </thead>\n",
       "  <tbody>\n",
       "    <tr>\n",
       "      <th>0</th>\n",
       "      <td>24</td>\n",
       "      <td>105574</td>\n",
       "      <td>2013-01-02</td>\n",
       "    </tr>\n",
       "    <tr>\n",
       "      <th>1</th>\n",
       "      <td>24</td>\n",
       "      <td>105574</td>\n",
       "      <td>2013-01-03</td>\n",
       "    </tr>\n",
       "    <tr>\n",
       "      <th>2</th>\n",
       "      <td>24</td>\n",
       "      <td>105574</td>\n",
       "      <td>2013-01-04</td>\n",
       "    </tr>\n",
       "    <tr>\n",
       "      <th>3</th>\n",
       "      <td>24</td>\n",
       "      <td>105574</td>\n",
       "      <td>2013-01-05</td>\n",
       "    </tr>\n",
       "    <tr>\n",
       "      <th>4</th>\n",
       "      <td>24</td>\n",
       "      <td>105574</td>\n",
       "      <td>2013-01-06</td>\n",
       "    </tr>\n",
       "  </tbody>\n",
       "</table>\n",
       "</div>"
      ],
      "text/plain": [
       "   store_nbr  item_nbr       date\n",
       "0         24    105574 2013-01-02\n",
       "1         24    105574 2013-01-03\n",
       "2         24    105574 2013-01-04\n",
       "3         24    105574 2013-01-05\n",
       "4         24    105574 2013-01-06"
      ]
     },
     "execution_count": 18,
     "metadata": {},
     "output_type": "execute_result"
    }
   ],
   "source": [
    "#combing two data frame brings us all possible options of a date for the given store and item\n",
    "store_item_combinations = df_train[['store_nbr', 'item_nbr']].drop_duplicates()\n",
    "df_cross_join = pd.merge(store_item_combinations, df_full_date_range, how='cross')\n",
    "df_cross_join.head()"
   ]
  },
  {
   "cell_type": "code",
   "execution_count": null,
   "metadata": {
    "executionInfo": {
     "elapsed": 5,
     "status": "ok",
     "timestamp": 1749756380844,
     "user": {
      "displayName": "nuzhat amna",
      "userId": "14208939946541820310"
     },
     "user_tz": -120
    },
    "id": "LLTypVp-IgR0"
   },
   "outputs": [],
   "source": [
    "del(df_full_date_range)\n",
    "del(store_item_combinations)"
   ]
  },
  {
   "cell_type": "code",
   "execution_count": null,
   "metadata": {
    "colab": {
     "base_uri": "https://localhost:8080/",
     "height": 351
    },
    "executionInfo": {
     "elapsed": 20322,
     "status": "ok",
     "timestamp": 1749756406872,
     "user": {
      "displayName": "nuzhat amna",
      "userId": "14208939946541820310"
     },
     "user_tz": -120
    },
    "id": "ctlCmzAJHK20",
    "outputId": "adf136d6-1528-494c-9b04-e46d7511511c"
   },
   "outputs": [
    {
     "name": "stderr",
     "output_type": "stream",
     "text": [
      "/var/folders/c8/sh5pt5vd6l18mnnz089s6hd80000gn/T/ipykernel_39694/2670210681.py:2: FutureWarning: A value is trying to be set on a copy of a DataFrame or Series through chained assignment using an inplace method.\n",
      "The behavior will change in pandas 3.0. This inplace method will never work because the intermediate object on which we are setting values always behaves as a copy.\n",
      "\n",
      "For example, when doing 'df[col].method(value, inplace=True)', try using 'df.method({col: value}, inplace=True)' or df[col] = df[col].method(value) instead, to perform the operation inplace on the original object.\n",
      "\n",
      "\n",
      "  date_fixed_df['unit_sales'].fillna(0, inplace=True)\n"
     ]
    },
    {
     "data": {
      "text/html": [
       "<div>\n",
       "<style scoped>\n",
       "    .dataframe tbody tr th:only-of-type {\n",
       "        vertical-align: middle;\n",
       "    }\n",
       "\n",
       "    .dataframe tbody tr th {\n",
       "        vertical-align: top;\n",
       "    }\n",
       "\n",
       "    .dataframe thead th {\n",
       "        text-align: right;\n",
       "    }\n",
       "</style>\n",
       "<table border=\"1\" class=\"dataframe\">\n",
       "  <thead>\n",
       "    <tr style=\"text-align: right;\">\n",
       "      <th></th>\n",
       "      <th>store_nbr</th>\n",
       "      <th>item_nbr</th>\n",
       "      <th>date</th>\n",
       "      <th>id</th>\n",
       "      <th>unit_sales</th>\n",
       "      <th>onpromotion</th>\n",
       "    </tr>\n",
       "  </thead>\n",
       "  <tbody>\n",
       "    <tr>\n",
       "      <th>0</th>\n",
       "      <td>24</td>\n",
       "      <td>105574</td>\n",
       "      <td>2013-01-02</td>\n",
       "      <td>18790.0</td>\n",
       "      <td>12.0</td>\n",
       "      <td>False</td>\n",
       "    </tr>\n",
       "    <tr>\n",
       "      <th>1</th>\n",
       "      <td>24</td>\n",
       "      <td>105574</td>\n",
       "      <td>2013-01-03</td>\n",
       "      <td>59692.0</td>\n",
       "      <td>1.0</td>\n",
       "      <td>False</td>\n",
       "    </tr>\n",
       "    <tr>\n",
       "      <th>2</th>\n",
       "      <td>24</td>\n",
       "      <td>105574</td>\n",
       "      <td>2013-01-04</td>\n",
       "      <td>99664.0</td>\n",
       "      <td>3.0</td>\n",
       "      <td>False</td>\n",
       "    </tr>\n",
       "    <tr>\n",
       "      <th>3</th>\n",
       "      <td>24</td>\n",
       "      <td>105574</td>\n",
       "      <td>2013-01-05</td>\n",
       "      <td>140805.0</td>\n",
       "      <td>4.0</td>\n",
       "      <td>False</td>\n",
       "    </tr>\n",
       "    <tr>\n",
       "      <th>4</th>\n",
       "      <td>24</td>\n",
       "      <td>105574</td>\n",
       "      <td>2013-01-06</td>\n",
       "      <td>182800.0</td>\n",
       "      <td>7.0</td>\n",
       "      <td>False</td>\n",
       "    </tr>\n",
       "  </tbody>\n",
       "</table>\n",
       "</div>"
      ],
      "text/plain": [
       "   store_nbr  item_nbr       date        id  unit_sales onpromotion\n",
       "0         24    105574 2013-01-02   18790.0        12.0       False\n",
       "1         24    105574 2013-01-03   59692.0         1.0       False\n",
       "2         24    105574 2013-01-04   99664.0         3.0       False\n",
       "3         24    105574 2013-01-05  140805.0         4.0       False\n",
       "4         24    105574 2013-01-06  182800.0         7.0       False"
      ]
     },
     "execution_count": 20,
     "metadata": {},
     "output_type": "execute_result"
    }
   ],
   "source": [
    "date_fixed_df = pd.merge(df_cross_join, df_train, on=['store_nbr', 'item_nbr', 'date'], how='left')\n",
    "date_fixed_df['unit_sales'].fillna(0, inplace=True)\n",
    "df_train = date_fixed_df # after fixing tha dates problme, the original training data frame is over written\n",
    "df_train.head()"
   ]
  },
  {
   "cell_type": "markdown",
   "metadata": {
    "id": "Ups4KJuXRAls"
   },
   "source": [
    "## 3.5- Feature Engineering"
   ]
  },
  {
   "cell_type": "code",
   "execution_count": null,
   "metadata": {
    "colab": {
     "base_uri": "https://localhost:8080/",
     "height": 424
    },
    "executionInfo": {
     "elapsed": 4397,
     "status": "ok",
     "timestamp": 1749756418940,
     "user": {
      "displayName": "nuzhat amna",
      "userId": "14208939946541820310"
     },
     "user_tz": -120
    },
    "id": "sJwVUXGwRres",
    "outputId": "ae44a77a-ef90-43d4-8daa-d29f3bf27768"
   },
   "outputs": [
    {
     "data": {
      "text/html": [
       "<div>\n",
       "<style scoped>\n",
       "    .dataframe tbody tr th:only-of-type {\n",
       "        vertical-align: middle;\n",
       "    }\n",
       "\n",
       "    .dataframe tbody tr th {\n",
       "        vertical-align: top;\n",
       "    }\n",
       "\n",
       "    .dataframe thead th {\n",
       "        text-align: right;\n",
       "    }\n",
       "</style>\n",
       "<table border=\"1\" class=\"dataframe\">\n",
       "  <thead>\n",
       "    <tr style=\"text-align: right;\">\n",
       "      <th></th>\n",
       "      <th>store_nbr</th>\n",
       "      <th>item_nbr</th>\n",
       "      <th>date</th>\n",
       "      <th>id</th>\n",
       "      <th>unit_sales</th>\n",
       "      <th>onpromotion</th>\n",
       "      <th>year</th>\n",
       "      <th>month</th>\n",
       "      <th>day</th>\n",
       "      <th>day_of_week</th>\n",
       "    </tr>\n",
       "  </thead>\n",
       "  <tbody>\n",
       "    <tr>\n",
       "      <th>0</th>\n",
       "      <td>24</td>\n",
       "      <td>105574</td>\n",
       "      <td>2013-01-02</td>\n",
       "      <td>18790.0</td>\n",
       "      <td>12.0</td>\n",
       "      <td>False</td>\n",
       "      <td>2013</td>\n",
       "      <td>1</td>\n",
       "      <td>2</td>\n",
       "      <td>2</td>\n",
       "    </tr>\n",
       "    <tr>\n",
       "      <th>1</th>\n",
       "      <td>24</td>\n",
       "      <td>105574</td>\n",
       "      <td>2013-01-03</td>\n",
       "      <td>59692.0</td>\n",
       "      <td>1.0</td>\n",
       "      <td>False</td>\n",
       "      <td>2013</td>\n",
       "      <td>1</td>\n",
       "      <td>3</td>\n",
       "      <td>3</td>\n",
       "    </tr>\n",
       "    <tr>\n",
       "      <th>2</th>\n",
       "      <td>24</td>\n",
       "      <td>105574</td>\n",
       "      <td>2013-01-04</td>\n",
       "      <td>99664.0</td>\n",
       "      <td>3.0</td>\n",
       "      <td>False</td>\n",
       "      <td>2013</td>\n",
       "      <td>1</td>\n",
       "      <td>4</td>\n",
       "      <td>4</td>\n",
       "    </tr>\n",
       "    <tr>\n",
       "      <th>3</th>\n",
       "      <td>24</td>\n",
       "      <td>105574</td>\n",
       "      <td>2013-01-05</td>\n",
       "      <td>140805.0</td>\n",
       "      <td>4.0</td>\n",
       "      <td>False</td>\n",
       "      <td>2013</td>\n",
       "      <td>1</td>\n",
       "      <td>5</td>\n",
       "      <td>5</td>\n",
       "    </tr>\n",
       "    <tr>\n",
       "      <th>4</th>\n",
       "      <td>24</td>\n",
       "      <td>105574</td>\n",
       "      <td>2013-01-06</td>\n",
       "      <td>182800.0</td>\n",
       "      <td>7.0</td>\n",
       "      <td>False</td>\n",
       "      <td>2013</td>\n",
       "      <td>1</td>\n",
       "      <td>6</td>\n",
       "      <td>6</td>\n",
       "    </tr>\n",
       "    <tr>\n",
       "      <th>...</th>\n",
       "      <td>...</td>\n",
       "      <td>...</td>\n",
       "      <td>...</td>\n",
       "      <td>...</td>\n",
       "      <td>...</td>\n",
       "      <td>...</td>\n",
       "      <td>...</td>\n",
       "      <td>...</td>\n",
       "      <td>...</td>\n",
       "      <td>...</td>\n",
       "    </tr>\n",
       "    <tr>\n",
       "      <th>35069351</th>\n",
       "      <td>51</td>\n",
       "      <td>2123791</td>\n",
       "      <td>2017-08-11</td>\n",
       "      <td>NaN</td>\n",
       "      <td>0.0</td>\n",
       "      <td>NaN</td>\n",
       "      <td>2017</td>\n",
       "      <td>8</td>\n",
       "      <td>11</td>\n",
       "      <td>4</td>\n",
       "    </tr>\n",
       "    <tr>\n",
       "      <th>35069352</th>\n",
       "      <td>51</td>\n",
       "      <td>2123791</td>\n",
       "      <td>2017-08-12</td>\n",
       "      <td>NaN</td>\n",
       "      <td>0.0</td>\n",
       "      <td>NaN</td>\n",
       "      <td>2017</td>\n",
       "      <td>8</td>\n",
       "      <td>12</td>\n",
       "      <td>5</td>\n",
       "    </tr>\n",
       "    <tr>\n",
       "      <th>35069353</th>\n",
       "      <td>51</td>\n",
       "      <td>2123791</td>\n",
       "      <td>2017-08-13</td>\n",
       "      <td>NaN</td>\n",
       "      <td>0.0</td>\n",
       "      <td>NaN</td>\n",
       "      <td>2017</td>\n",
       "      <td>8</td>\n",
       "      <td>13</td>\n",
       "      <td>6</td>\n",
       "    </tr>\n",
       "    <tr>\n",
       "      <th>35069354</th>\n",
       "      <td>51</td>\n",
       "      <td>2123791</td>\n",
       "      <td>2017-08-14</td>\n",
       "      <td>NaN</td>\n",
       "      <td>0.0</td>\n",
       "      <td>NaN</td>\n",
       "      <td>2017</td>\n",
       "      <td>8</td>\n",
       "      <td>14</td>\n",
       "      <td>0</td>\n",
       "    </tr>\n",
       "    <tr>\n",
       "      <th>35069355</th>\n",
       "      <td>51</td>\n",
       "      <td>2123791</td>\n",
       "      <td>2017-08-15</td>\n",
       "      <td>125491523.0</td>\n",
       "      <td>1.0</td>\n",
       "      <td>False</td>\n",
       "      <td>2017</td>\n",
       "      <td>8</td>\n",
       "      <td>15</td>\n",
       "      <td>1</td>\n",
       "    </tr>\n",
       "  </tbody>\n",
       "</table>\n",
       "<p>35069356 rows × 10 columns</p>\n",
       "</div>"
      ],
      "text/plain": [
       "          store_nbr  item_nbr       date           id  unit_sales onpromotion  \\\n",
       "0                24    105574 2013-01-02      18790.0        12.0       False   \n",
       "1                24    105574 2013-01-03      59692.0         1.0       False   \n",
       "2                24    105574 2013-01-04      99664.0         3.0       False   \n",
       "3                24    105574 2013-01-05     140805.0         4.0       False   \n",
       "4                24    105574 2013-01-06     182800.0         7.0       False   \n",
       "...             ...       ...        ...          ...         ...         ...   \n",
       "35069351         51   2123791 2017-08-11          NaN         0.0         NaN   \n",
       "35069352         51   2123791 2017-08-12          NaN         0.0         NaN   \n",
       "35069353         51   2123791 2017-08-13          NaN         0.0         NaN   \n",
       "35069354         51   2123791 2017-08-14          NaN         0.0         NaN   \n",
       "35069355         51   2123791 2017-08-15  125491523.0         1.0       False   \n",
       "\n",
       "          year  month  day  day_of_week  \n",
       "0         2013      1    2            2  \n",
       "1         2013      1    3            3  \n",
       "2         2013      1    4            4  \n",
       "3         2013      1    5            5  \n",
       "4         2013      1    6            6  \n",
       "...        ...    ...  ...          ...  \n",
       "35069351  2017      8   11            4  \n",
       "35069352  2017      8   12            5  \n",
       "35069353  2017      8   13            6  \n",
       "35069354  2017      8   14            0  \n",
       "35069355  2017      8   15            1  \n",
       "\n",
       "[35069356 rows x 10 columns]"
      ]
     },
     "execution_count": 21,
     "metadata": {},
     "output_type": "execute_result"
    }
   ],
   "source": [
    "# creating time based features\n",
    "df_train['year'] = df_train['date'].dt.year\n",
    "df_train['month'] = df_train['date'].dt.month\n",
    "df_train['day'] = df_train['date'].dt.day\n",
    "df_train['day_of_week'] = df_train['date'].dt.dayofweek\n",
    "df_train"
   ]
  },
  {
   "cell_type": "code",
   "execution_count": null,
   "metadata": {
    "colab": {
     "base_uri": "https://localhost:8080/",
     "height": 520
    },
    "executionInfo": {
     "elapsed": 13843,
     "status": "ok",
     "timestamp": 1749756449906,
     "user": {
      "displayName": "nuzhat amna",
      "userId": "14208939946541820310"
     },
     "user_tz": -120
    },
    "id": "pre9jzHqYyTz",
    "outputId": "8ae6b896-abfd-4b64-a8e1-cc5087c69cd9"
   },
   "outputs": [
    {
     "data": {
      "text/html": [
       "<div>\n",
       "<style scoped>\n",
       "    .dataframe tbody tr th:only-of-type {\n",
       "        vertical-align: middle;\n",
       "    }\n",
       "\n",
       "    .dataframe tbody tr th {\n",
       "        vertical-align: top;\n",
       "    }\n",
       "\n",
       "    .dataframe thead th {\n",
       "        text-align: right;\n",
       "    }\n",
       "</style>\n",
       "<table border=\"1\" class=\"dataframe\">\n",
       "  <thead>\n",
       "    <tr style=\"text-align: right;\">\n",
       "      <th></th>\n",
       "      <th>store_nbr</th>\n",
       "      <th>item_nbr</th>\n",
       "      <th>date</th>\n",
       "      <th>id</th>\n",
       "      <th>unit_sales</th>\n",
       "      <th>onpromotion</th>\n",
       "      <th>year</th>\n",
       "      <th>month</th>\n",
       "      <th>day</th>\n",
       "      <th>day_of_week</th>\n",
       "      <th>unit_sales_7d_avg</th>\n",
       "    </tr>\n",
       "  </thead>\n",
       "  <tbody>\n",
       "    <tr>\n",
       "      <th>0</th>\n",
       "      <td>24</td>\n",
       "      <td>105574</td>\n",
       "      <td>2013-01-02</td>\n",
       "      <td>18790.0</td>\n",
       "      <td>12.0</td>\n",
       "      <td>False</td>\n",
       "      <td>2013</td>\n",
       "      <td>1</td>\n",
       "      <td>2</td>\n",
       "      <td>2</td>\n",
       "      <td>NaN</td>\n",
       "    </tr>\n",
       "    <tr>\n",
       "      <th>1</th>\n",
       "      <td>24</td>\n",
       "      <td>105574</td>\n",
       "      <td>2013-01-03</td>\n",
       "      <td>59692.0</td>\n",
       "      <td>1.0</td>\n",
       "      <td>False</td>\n",
       "      <td>2013</td>\n",
       "      <td>1</td>\n",
       "      <td>3</td>\n",
       "      <td>3</td>\n",
       "      <td>NaN</td>\n",
       "    </tr>\n",
       "    <tr>\n",
       "      <th>2</th>\n",
       "      <td>24</td>\n",
       "      <td>105574</td>\n",
       "      <td>2013-01-04</td>\n",
       "      <td>99664.0</td>\n",
       "      <td>3.0</td>\n",
       "      <td>False</td>\n",
       "      <td>2013</td>\n",
       "      <td>1</td>\n",
       "      <td>4</td>\n",
       "      <td>4</td>\n",
       "      <td>NaN</td>\n",
       "    </tr>\n",
       "    <tr>\n",
       "      <th>3</th>\n",
       "      <td>24</td>\n",
       "      <td>105574</td>\n",
       "      <td>2013-01-05</td>\n",
       "      <td>140805.0</td>\n",
       "      <td>4.0</td>\n",
       "      <td>False</td>\n",
       "      <td>2013</td>\n",
       "      <td>1</td>\n",
       "      <td>5</td>\n",
       "      <td>5</td>\n",
       "      <td>NaN</td>\n",
       "    </tr>\n",
       "    <tr>\n",
       "      <th>4</th>\n",
       "      <td>24</td>\n",
       "      <td>105574</td>\n",
       "      <td>2013-01-06</td>\n",
       "      <td>182800.0</td>\n",
       "      <td>7.0</td>\n",
       "      <td>False</td>\n",
       "      <td>2013</td>\n",
       "      <td>1</td>\n",
       "      <td>6</td>\n",
       "      <td>6</td>\n",
       "      <td>NaN</td>\n",
       "    </tr>\n",
       "    <tr>\n",
       "      <th>5</th>\n",
       "      <td>24</td>\n",
       "      <td>105574</td>\n",
       "      <td>2013-01-07</td>\n",
       "      <td>223895.0</td>\n",
       "      <td>3.0</td>\n",
       "      <td>False</td>\n",
       "      <td>2013</td>\n",
       "      <td>1</td>\n",
       "      <td>7</td>\n",
       "      <td>0</td>\n",
       "      <td>NaN</td>\n",
       "    </tr>\n",
       "    <tr>\n",
       "      <th>6</th>\n",
       "      <td>24</td>\n",
       "      <td>105574</td>\n",
       "      <td>2013-01-08</td>\n",
       "      <td>263107.0</td>\n",
       "      <td>3.0</td>\n",
       "      <td>False</td>\n",
       "      <td>2013</td>\n",
       "      <td>1</td>\n",
       "      <td>8</td>\n",
       "      <td>1</td>\n",
       "      <td>4.714286</td>\n",
       "    </tr>\n",
       "    <tr>\n",
       "      <th>7</th>\n",
       "      <td>24</td>\n",
       "      <td>105574</td>\n",
       "      <td>2013-01-09</td>\n",
       "      <td>302232.0</td>\n",
       "      <td>7.0</td>\n",
       "      <td>False</td>\n",
       "      <td>2013</td>\n",
       "      <td>1</td>\n",
       "      <td>9</td>\n",
       "      <td>2</td>\n",
       "      <td>4.000000</td>\n",
       "    </tr>\n",
       "    <tr>\n",
       "      <th>8</th>\n",
       "      <td>24</td>\n",
       "      <td>105574</td>\n",
       "      <td>2013-01-10</td>\n",
       "      <td>341031.0</td>\n",
       "      <td>3.0</td>\n",
       "      <td>False</td>\n",
       "      <td>2013</td>\n",
       "      <td>1</td>\n",
       "      <td>10</td>\n",
       "      <td>3</td>\n",
       "      <td>4.285714</td>\n",
       "    </tr>\n",
       "    <tr>\n",
       "      <th>9</th>\n",
       "      <td>24</td>\n",
       "      <td>105574</td>\n",
       "      <td>2013-01-11</td>\n",
       "      <td>379570.0</td>\n",
       "      <td>6.0</td>\n",
       "      <td>False</td>\n",
       "      <td>2013</td>\n",
       "      <td>1</td>\n",
       "      <td>11</td>\n",
       "      <td>4</td>\n",
       "      <td>4.714286</td>\n",
       "    </tr>\n",
       "    <tr>\n",
       "      <th>10</th>\n",
       "      <td>24</td>\n",
       "      <td>105574</td>\n",
       "      <td>2013-01-12</td>\n",
       "      <td>419992.0</td>\n",
       "      <td>7.0</td>\n",
       "      <td>False</td>\n",
       "      <td>2013</td>\n",
       "      <td>1</td>\n",
       "      <td>12</td>\n",
       "      <td>5</td>\n",
       "      <td>5.142857</td>\n",
       "    </tr>\n",
       "    <tr>\n",
       "      <th>11</th>\n",
       "      <td>24</td>\n",
       "      <td>105574</td>\n",
       "      <td>2013-01-13</td>\n",
       "      <td>461982.0</td>\n",
       "      <td>1.0</td>\n",
       "      <td>False</td>\n",
       "      <td>2013</td>\n",
       "      <td>1</td>\n",
       "      <td>13</td>\n",
       "      <td>6</td>\n",
       "      <td>4.285714</td>\n",
       "    </tr>\n",
       "    <tr>\n",
       "      <th>12</th>\n",
       "      <td>24</td>\n",
       "      <td>105574</td>\n",
       "      <td>2013-01-14</td>\n",
       "      <td>503263.0</td>\n",
       "      <td>2.0</td>\n",
       "      <td>False</td>\n",
       "      <td>2013</td>\n",
       "      <td>1</td>\n",
       "      <td>14</td>\n",
       "      <td>0</td>\n",
       "      <td>4.142857</td>\n",
       "    </tr>\n",
       "    <tr>\n",
       "      <th>13</th>\n",
       "      <td>24</td>\n",
       "      <td>105574</td>\n",
       "      <td>2013-01-15</td>\n",
       "      <td>542633.0</td>\n",
       "      <td>3.0</td>\n",
       "      <td>False</td>\n",
       "      <td>2013</td>\n",
       "      <td>1</td>\n",
       "      <td>15</td>\n",
       "      <td>1</td>\n",
       "      <td>4.142857</td>\n",
       "    </tr>\n",
       "    <tr>\n",
       "      <th>14</th>\n",
       "      <td>24</td>\n",
       "      <td>105574</td>\n",
       "      <td>2013-01-16</td>\n",
       "      <td>582439.0</td>\n",
       "      <td>19.0</td>\n",
       "      <td>False</td>\n",
       "      <td>2013</td>\n",
       "      <td>1</td>\n",
       "      <td>16</td>\n",
       "      <td>2</td>\n",
       "      <td>5.857143</td>\n",
       "    </tr>\n",
       "  </tbody>\n",
       "</table>\n",
       "</div>"
      ],
      "text/plain": [
       "    store_nbr  item_nbr       date        id  unit_sales onpromotion  year  \\\n",
       "0          24    105574 2013-01-02   18790.0        12.0       False  2013   \n",
       "1          24    105574 2013-01-03   59692.0         1.0       False  2013   \n",
       "2          24    105574 2013-01-04   99664.0         3.0       False  2013   \n",
       "3          24    105574 2013-01-05  140805.0         4.0       False  2013   \n",
       "4          24    105574 2013-01-06  182800.0         7.0       False  2013   \n",
       "5          24    105574 2013-01-07  223895.0         3.0       False  2013   \n",
       "6          24    105574 2013-01-08  263107.0         3.0       False  2013   \n",
       "7          24    105574 2013-01-09  302232.0         7.0       False  2013   \n",
       "8          24    105574 2013-01-10  341031.0         3.0       False  2013   \n",
       "9          24    105574 2013-01-11  379570.0         6.0       False  2013   \n",
       "10         24    105574 2013-01-12  419992.0         7.0       False  2013   \n",
       "11         24    105574 2013-01-13  461982.0         1.0       False  2013   \n",
       "12         24    105574 2013-01-14  503263.0         2.0       False  2013   \n",
       "13         24    105574 2013-01-15  542633.0         3.0       False  2013   \n",
       "14         24    105574 2013-01-16  582439.0        19.0       False  2013   \n",
       "\n",
       "    month  day  day_of_week  unit_sales_7d_avg  \n",
       "0       1    2            2                NaN  \n",
       "1       1    3            3                NaN  \n",
       "2       1    4            4                NaN  \n",
       "3       1    5            5                NaN  \n",
       "4       1    6            6                NaN  \n",
       "5       1    7            0                NaN  \n",
       "6       1    8            1           4.714286  \n",
       "7       1    9            2           4.000000  \n",
       "8       1   10            3           4.285714  \n",
       "9       1   11            4           4.714286  \n",
       "10      1   12            5           5.142857  \n",
       "11      1   13            6           4.285714  \n",
       "12      1   14            0           4.142857  \n",
       "13      1   15            1           4.142857  \n",
       "14      1   16            2           5.857143  "
      ]
     },
     "execution_count": 22,
     "metadata": {},
     "output_type": "execute_result"
    }
   ],
   "source": [
    "#creating rolling Avg\n",
    "df_train['unit_sales_7d_avg'] = df_train.groupby(['item_nbr', 'store_nbr'])['unit_sales'].transform(lambda x: x.rolling(window=7).mean())\n",
    "\n",
    "\n",
    "df_train.head(15)"
   ]
  },
  {
   "cell_type": "markdown",
   "metadata": {
    "id": "gUlJUPy_imtE"
   },
   "source": [
    "# 4- Creating CSV of preprocessed Train of Guayas"
   ]
  },
  {
   "cell_type": "code",
   "execution_count": 25,
   "metadata": {},
   "outputs": [
    {
     "name": "stdout",
     "output_type": "stream",
     "text": [
      "df_train shape: (35069356, 11)\n"
     ]
    }
   ],
   "source": [
    "print(f'df_train shape: {df_train.shape}')"
   ]
  },
  {
   "cell_type": "code",
   "execution_count": 26,
   "metadata": {
    "colab": {
     "base_uri": "https://localhost:8080/"
    },
    "executionInfo": {
     "elapsed": 229562,
     "status": "ok",
     "timestamp": 1749756686002,
     "user": {
      "displayName": "nuzhat amna",
      "userId": "14208939946541820310"
     },
     "user_tz": -120
    },
    "id": "VRcN9Hi7BVHE",
    "outputId": "9abc769d-b8d1-42a1-ee07-ca03d428aaf7"
   },
   "outputs": [
    {
     "name": "stdout",
     "output_type": "stream",
     "text": [
      "File saved to /Users/D065623/Documents/Amna/Time_series_project/Data/train_Guayas_preprocessed.csv\n"
     ]
    }
   ],
   "source": [
    "#save_fileName = '/content/drive/MyDrive/Projects/Timeseries_project/data/train_Guayas_preprocessed.csv'\n",
    "save_fileName = file_path + 'train_Guayas_preprocessed.csv'\n",
    "df_train.to_csv(save_fileName, index=False)\n",
    "print(f'File saved to {save_fileName}')"
   ]
  }
 ],
 "metadata": {
  "accelerator": "GPU",
  "colab": {
   "gpuType": "T4",
   "provenance": []
  },
  "kernelspec": {
   "display_name": "py310",
   "language": "python",
   "name": "python3"
  },
  "language_info": {
   "codemirror_mode": {
    "name": "ipython",
    "version": 3
   },
   "file_extension": ".py",
   "mimetype": "text/x-python",
   "name": "python",
   "nbconvert_exporter": "python",
   "pygments_lexer": "ipython3",
   "version": "3.10.6"
  }
 },
 "nbformat": 4,
 "nbformat_minor": 0
}
